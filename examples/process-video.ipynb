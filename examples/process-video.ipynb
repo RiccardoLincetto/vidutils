{
 "cells": [
  {
   "attachments": {},
   "cell_type": "markdown",
   "metadata": {},
   "source": [
    "# Example: process video\n",
    "This page shows how to use the vidutils package to process a video."
   ]
  },
  {
   "attachments": {},
   "cell_type": "markdown",
   "metadata": {},
   "source": [
    "Download a sample video to be processed."
   ]
  },
  {
   "cell_type": "code",
   "execution_count": 1,
   "metadata": {},
   "outputs": [],
   "source": [
    "filename: str = \"video.mp4\""
   ]
  },
  {
   "cell_type": "code",
   "execution_count": 2,
   "metadata": {
    "vscode": {
     "languageId": "shellscript"
    }
   },
   "outputs": [
    {
     "name": "stdout",
     "output_type": "stream",
     "text": [
      "--2023-04-27 10:03:30--  https://sample-videos.com/video123/mp4/720/big_buck_bunny_720p_1mb.mp4\n",
      "Resolving sample-videos.com (sample-videos.com)... 103.145.51.95\n",
      "Connecting to sample-videos.com (sample-videos.com)|103.145.51.95|:443... connected.\n",
      "HTTP request sent, awaiting response... 200 OK\n",
      "Length: 1055736 (1.0M) [video/mp4]\n",
      "Saving to: ‘video.mp4’\n",
      "\n",
      "video.mp4           100%[===================>]   1.01M  1.29MB/s    in 0.8s    \n",
      "\n",
      "2023-04-27 10:03:32 (1.29 MB/s) - ‘video.mp4’ saved [1055736/1055736]\n",
      "\n"
     ]
    }
   ],
   "source": [
    "!wget https://sample-videos.com/video123/mp4/720/big_buck_bunny_720p_1mb.mp4 -O $filename"
   ]
  },
  {
   "attachments": {},
   "cell_type": "markdown",
   "metadata": {},
   "source": [
    "## Python SDK"
   ]
  },
  {
   "attachments": {},
   "cell_type": "markdown",
   "metadata": {},
   "source": [
    "Create a Reader object to read the video."
   ]
  },
  {
   "cell_type": "code",
   "execution_count": 3,
   "metadata": {},
   "outputs": [],
   "source": [
    "from vidutils import Reader\n",
    "\n",
    "reader = Reader(filename)"
   ]
  },
  {
   "attachments": {},
   "cell_type": "markdown",
   "metadata": {},
   "source": [
    "Create a Writer object to write the processed video."
   ]
  },
  {
   "cell_type": "code",
   "execution_count": 4,
   "metadata": {},
   "outputs": [
    {
     "ename": "error",
     "evalue": "OpenCV(4.7.0) :-1: error: (-5:Bad argument) in function 'VideoWriter'\n> Overload resolution failed:\n>  - Can't parse 'frameSize'. Sequence item with index 0 has a wrong type\n>  - VideoWriter() missing required argument 'frameSize' (pos 5)\n>  - VideoWriter() missing required argument 'params' (pos 5)\n>  - VideoWriter() missing required argument 'frameSize' (pos 5)\n",
     "output_type": "error",
     "traceback": [
      "\u001b[0;31m---------------------------------------------------------------------------\u001b[0m",
      "\u001b[0;31merror\u001b[0m                                     Traceback (most recent call last)",
      "Cell \u001b[0;32mIn[4], line 3\u001b[0m\n\u001b[1;32m      1\u001b[0m \u001b[39mfrom\u001b[39;00m \u001b[39mvidutils\u001b[39;00m \u001b[39mimport\u001b[39;00m Writer\n\u001b[0;32m----> 3\u001b[0m writer \u001b[39m=\u001b[39m Writer(\u001b[39m\"\u001b[39;49m\u001b[39moutput.mp4\u001b[39;49m\u001b[39m\"\u001b[39;49m, reader)\n",
      "File \u001b[0;32m/workspaces/vidutils/vidutils/primitives.py:71\u001b[0m, in \u001b[0;36mWriter.__init__\u001b[0;34m(self, filename, reader)\u001b[0m\n\u001b[1;32m     70\u001b[0m \u001b[39mdef\u001b[39;00m \u001b[39m__init__\u001b[39m(\u001b[39mself\u001b[39m, filename: Path \u001b[39m|\u001b[39m \u001b[39mstr\u001b[39m, reader: cv2\u001b[39m.\u001b[39mVideoCapture) \u001b[39m-\u001b[39m\u001b[39m>\u001b[39m \u001b[39mNone\u001b[39;00m:\n\u001b[0;32m---> 71\u001b[0m     \u001b[39msuper\u001b[39;49m()\u001b[39m.\u001b[39;49m\u001b[39m__init__\u001b[39;49m(\n\u001b[1;32m     72\u001b[0m         \u001b[39mstr\u001b[39;49m(filename),\n\u001b[1;32m     73\u001b[0m         cv2\u001b[39m.\u001b[39;49mVideoWriter_fourcc(\u001b[39m*\u001b[39;49m\u001b[39mself\u001b[39;49m\u001b[39m.\u001b[39;49m_EXT_TO_FOURCC[Path(filename)\u001b[39m.\u001b[39;49msuffix]),\n\u001b[1;32m     74\u001b[0m         reader\u001b[39m.\u001b[39;49mget(cv2\u001b[39m.\u001b[39;49mCAP_PROP_FPS),\n\u001b[1;32m     75\u001b[0m         (reader\u001b[39m.\u001b[39;49mget(cv2\u001b[39m.\u001b[39;49mCAP_PROP_FRAME_WIDTH), reader\u001b[39m.\u001b[39;49mget(cv2\u001b[39m.\u001b[39;49mCAP_PROP_FRAME_HEIGHT))\n\u001b[1;32m     76\u001b[0m     )\n",
      "\u001b[0;31merror\u001b[0m: OpenCV(4.7.0) :-1: error: (-5:Bad argument) in function 'VideoWriter'\n> Overload resolution failed:\n>  - Can't parse 'frameSize'. Sequence item with index 0 has a wrong type\n>  - VideoWriter() missing required argument 'frameSize' (pos 5)\n>  - VideoWriter() missing required argument 'params' (pos 5)\n>  - VideoWriter() missing required argument 'frameSize' (pos 5)\n"
     ]
    }
   ],
   "source": [
    "from vidutils import Writer\n",
    "\n",
    "writer = Writer(\"output.mp4\", reader)"
   ]
  },
  {
   "attachments": {},
   "cell_type": "markdown",
   "metadata": {},
   "source": [
    "Create a Player object to process the video. The Player needs an Algorithm object, of type Callable[[Frame], Frame] , to process each frame of the video. In this simple case we pass a lambda function that does nothing."
   ]
  },
  {
   "cell_type": "code",
   "execution_count": null,
   "metadata": {},
   "outputs": [],
   "source": [
    "from vidutils import Player\n",
    "\n",
    "player = Player(reader, lambda frame: frame, writer)"
   ]
  },
  {
   "attachments": {},
   "cell_type": "markdown",
   "metadata": {},
   "source": [
    "Loop over the video frames."
   ]
  },
  {
   "cell_type": "code",
   "execution_count": null,
   "metadata": {},
   "outputs": [],
   "source": [
    "player.play()"
   ]
  }
 ],
 "metadata": {
  "kernelspec": {
   "display_name": ".venv",
   "language": "python",
   "name": "python3"
  },
  "language_info": {
   "codemirror_mode": {
    "name": "ipython",
    "version": 3
   },
   "file_extension": ".py",
   "mimetype": "text/x-python",
   "name": "python",
   "nbconvert_exporter": "python",
   "pygments_lexer": "ipython3",
   "version": "3.11.3"
  },
  "orig_nbformat": 4
 },
 "nbformat": 4,
 "nbformat_minor": 2
}
